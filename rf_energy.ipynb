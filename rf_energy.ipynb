{
 "cells": [
  {
   "cell_type": "code",
   "execution_count": 1,
   "metadata": {},
   "outputs": [],
   "source": [
    "%matplotlib inline\n",
    "from matminer.featurizers.base import MultipleFeaturizer\n",
    "from matminer.featurizers import composition as cf\n",
    "from matminer.featurizers.conversions import StrToComposition\n",
    "from matplotlib import pyplot as plt\n",
    "from matplotlib.colors import LogNorm\n",
    "import numpy as np\n",
    "import pandas as pd\n",
    "import pickle as pkl\n",
    "from sklearn import metrics\n",
    "from sklearn.ensemble import RandomForestRegressor\n",
    "from sklearn.model_selection import cross_val_score, cross_val_predict, GridSearchCV, ShuffleSplit, KFold"
   ]
  },
  {
   "cell_type": "code",
   "execution_count": 18,
   "metadata": {},
   "outputs": [],
   "source": [
    "# load total energy data\n",
    "data = pd.read_csv('nrelmatdb_energies.csv')"
   ]
  },
  {
   "cell_type": "code",
   "execution_count": 19,
   "metadata": {},
   "outputs": [
    {
     "data": {
      "text/html": [
       "<div>\n",
       "<style scoped>\n",
       "    .dataframe tbody tr th:only-of-type {\n",
       "        vertical-align: middle;\n",
       "    }\n",
       "\n",
       "    .dataframe tbody tr th {\n",
       "        vertical-align: top;\n",
       "    }\n",
       "\n",
       "    .dataframe thead th {\n",
       "        text-align: right;\n",
       "    }\n",
       "</style>\n",
       "<table border=\"1\" class=\"dataframe\">\n",
       "  <thead>\n",
       "    <tr style=\"text-align: right;\">\n",
       "      <th></th>\n",
       "      <th>composition</th>\n",
       "      <th>icsdnum</th>\n",
       "      <th>energyperatom</th>\n",
       "      <th>E-Emin</th>\n",
       "    </tr>\n",
       "  </thead>\n",
       "  <tbody>\n",
       "    <tr>\n",
       "      <th>0</th>\n",
       "      <td>Hf1N1</td>\n",
       "      <td>183420.0</td>\n",
       "      <td>-9.855</td>\n",
       "      <td>0.000</td>\n",
       "    </tr>\n",
       "    <tr>\n",
       "      <th>1</th>\n",
       "      <td>Hf1N1</td>\n",
       "      <td>183419.0</td>\n",
       "      <td>-9.855</td>\n",
       "      <td>0.000</td>\n",
       "    </tr>\n",
       "    <tr>\n",
       "      <th>2</th>\n",
       "      <td>Hf3N4</td>\n",
       "      <td>97997.0</td>\n",
       "      <td>-9.822</td>\n",
       "      <td>0.000</td>\n",
       "    </tr>\n",
       "    <tr>\n",
       "      <th>3</th>\n",
       "      <td>Hf1N1</td>\n",
       "      <td>167875.0</td>\n",
       "      <td>-9.663</td>\n",
       "      <td>0.192</td>\n",
       "    </tr>\n",
       "    <tr>\n",
       "      <th>4</th>\n",
       "      <td>Hf1O2</td>\n",
       "      <td>71354.0</td>\n",
       "      <td>-9.608</td>\n",
       "      <td>0.017</td>\n",
       "    </tr>\n",
       "    <tr>\n",
       "      <th>...</th>\n",
       "      <td>...</td>\n",
       "      <td>...</td>\n",
       "      <td>...</td>\n",
       "      <td>...</td>\n",
       "    </tr>\n",
       "    <tr>\n",
       "      <th>16440</th>\n",
       "      <td>F1O1Sb1</td>\n",
       "      <td>19019.0</td>\n",
       "      <td>-5.490</td>\n",
       "      <td>0.002</td>\n",
       "    </tr>\n",
       "    <tr>\n",
       "      <th>16441</th>\n",
       "      <td>Br3F3N3P3</td>\n",
       "      <td>16099.0</td>\n",
       "      <td>-5.330</td>\n",
       "      <td>0.000</td>\n",
       "    </tr>\n",
       "    <tr>\n",
       "      <th>16442</th>\n",
       "      <td>C1Ca2F2O3</td>\n",
       "      <td>100607.0</td>\n",
       "      <td>-6.812</td>\n",
       "      <td>0.000</td>\n",
       "    </tr>\n",
       "    <tr>\n",
       "      <th>16443</th>\n",
       "      <td>F2Mg5O8Si2</td>\n",
       "      <td>252072.0</td>\n",
       "      <td>-6.631</td>\n",
       "      <td>0.000</td>\n",
       "    </tr>\n",
       "    <tr>\n",
       "      <th>16444</th>\n",
       "      <td>F12K2O1Zr3</td>\n",
       "      <td>281350.0</td>\n",
       "      <td>-6.356</td>\n",
       "      <td>0.000</td>\n",
       "    </tr>\n",
       "  </tbody>\n",
       "</table>\n",
       "<p>16445 rows × 4 columns</p>\n",
       "</div>"
      ],
      "text/plain": [
       "      composition   icsdnum  energyperatom  E-Emin\n",
       "0           Hf1N1  183420.0         -9.855   0.000\n",
       "1           Hf1N1  183419.0         -9.855   0.000\n",
       "2           Hf3N4   97997.0         -9.822   0.000\n",
       "3           Hf1N1  167875.0         -9.663   0.192\n",
       "4           Hf1O2   71354.0         -9.608   0.017\n",
       "...           ...       ...            ...     ...\n",
       "16440     F1O1Sb1   19019.0         -5.490   0.002\n",
       "16441   Br3F3N3P3   16099.0         -5.330   0.000\n",
       "16442   C1Ca2F2O3  100607.0         -6.812   0.000\n",
       "16443  F2Mg5O8Si2  252072.0         -6.631   0.000\n",
       "16444  F12K2O1Zr3  281350.0         -6.356   0.000\n",
       "\n",
       "[16445 rows x 4 columns]"
      ]
     },
     "execution_count": 19,
     "metadata": {},
     "output_type": "execute_result"
    }
   ],
   "source": [
    "data"
   ]
  },
  {
   "cell_type": "code",
   "execution_count": 20,
   "metadata": {},
   "outputs": [],
   "source": [
    "# we only need \"composition\" and \"energyperatom\"\n",
    "data = data.drop(['icsdnum','E-Emin'],axis=1)"
   ]
  },
  {
   "cell_type": "code",
   "execution_count": 21,
   "metadata": {},
   "outputs": [
    {
     "data": {
      "application/vnd.jupyter.widget-view+json": {
       "model_id": "4693ed253bce4581af40055b47144b30",
       "version_major": 2,
       "version_minor": 0
      },
      "text/plain": [
       "HBox(children=(FloatProgress(value=0.0, description='StrToComposition', max=16445.0, style=ProgressStyle(descr…"
      ]
     },
     "metadata": {},
     "output_type": "display_data"
    },
    {
     "name": "stdout",
     "output_type": "stream",
     "text": [
      "\n"
     ]
    }
   ],
   "source": [
    "# create composition objects to be used for computing features\n",
    "data = StrToComposition(target_col_id='composition_obj').featurize_dataframe(data, 'composition')"
   ]
  },
  {
   "cell_type": "code",
   "execution_count": 22,
   "metadata": {},
   "outputs": [],
   "source": [
    "# build features from compositions\n",
    "feature_calculators = MultipleFeaturizer([cf.Stoichiometry(), cf.ElementProperty.from_preset(\"magpie\"),\n",
    "                                          cf.ValenceOrbital(props=['avg']), cf.IonProperty(fast=True)])"
   ]
  },
  {
   "cell_type": "code",
   "execution_count": 23,
   "metadata": {},
   "outputs": [],
   "source": [
    "# assign names to features\n",
    "feature_labels = feature_calculators.feature_labels()"
   ]
  },
  {
   "cell_type": "code",
   "execution_count": 24,
   "metadata": {},
   "outputs": [
    {
     "data": {
      "application/vnd.jupyter.widget-view+json": {
       "model_id": "f7b313b94a884c6687c55c1f5966084c",
       "version_major": 2,
       "version_minor": 0
      },
      "text/plain": [
       "HBox(children=(FloatProgress(value=0.0, description='MultipleFeaturizer', max=16445.0, style=ProgressStyle(des…"
      ]
     },
     "metadata": {},
     "output_type": "display_data"
    },
    {
     "name": "stdout",
     "output_type": "stream",
     "text": [
      "\n"
     ]
    }
   ],
   "source": [
    "# compute features using composition objects\n",
    "data = feature_calculators.featurize_dataframe(data, col_id='composition_obj');"
   ]
  },
  {
   "cell_type": "code",
   "execution_count": 25,
   "metadata": {},
   "outputs": [
    {
     "name": "stdout",
     "output_type": "stream",
     "text": [
      "Generated 145 features\n",
      "Training set size: 16445x145\n"
     ]
    }
   ],
   "source": [
    "print('Generated %d features'%len(feature_labels))\n",
    "print('Training set size:', 'x'.join([str(x) for x in data[feature_labels].shape]))"
   ]
  },
  {
   "cell_type": "code",
   "execution_count": 26,
   "metadata": {},
   "outputs": [
    {
     "data": {
      "text/html": [
       "<div>\n",
       "<style scoped>\n",
       "    .dataframe tbody tr th:only-of-type {\n",
       "        vertical-align: middle;\n",
       "    }\n",
       "\n",
       "    .dataframe tbody tr th {\n",
       "        vertical-align: top;\n",
       "    }\n",
       "\n",
       "    .dataframe thead th {\n",
       "        text-align: right;\n",
       "    }\n",
       "</style>\n",
       "<table border=\"1\" class=\"dataframe\">\n",
       "  <thead>\n",
       "    <tr style=\"text-align: right;\">\n",
       "      <th></th>\n",
       "      <th>composition</th>\n",
       "      <th>energyperatom</th>\n",
       "      <th>composition_obj</th>\n",
       "      <th>0-norm</th>\n",
       "      <th>2-norm</th>\n",
       "      <th>3-norm</th>\n",
       "      <th>5-norm</th>\n",
       "      <th>7-norm</th>\n",
       "      <th>10-norm</th>\n",
       "      <th>MagpieData minimum Number</th>\n",
       "      <th>...</th>\n",
       "      <th>MagpieData mean SpaceGroupNumber</th>\n",
       "      <th>MagpieData avg_dev SpaceGroupNumber</th>\n",
       "      <th>MagpieData mode SpaceGroupNumber</th>\n",
       "      <th>avg s valence electrons</th>\n",
       "      <th>avg p valence electrons</th>\n",
       "      <th>avg d valence electrons</th>\n",
       "      <th>avg f valence electrons</th>\n",
       "      <th>compound possible</th>\n",
       "      <th>max ionic char</th>\n",
       "      <th>avg ionic char</th>\n",
       "    </tr>\n",
       "  </thead>\n",
       "  <tbody>\n",
       "    <tr>\n",
       "      <th>0</th>\n",
       "      <td>Hf1N1</td>\n",
       "      <td>-9.855</td>\n",
       "      <td>(Hf, N)</td>\n",
       "      <td>2</td>\n",
       "      <td>0.707107</td>\n",
       "      <td>0.629961</td>\n",
       "      <td>0.574349</td>\n",
       "      <td>0.552045</td>\n",
       "      <td>0.535887</td>\n",
       "      <td>7.0</td>\n",
       "      <td>...</td>\n",
       "      <td>194.0</td>\n",
       "      <td>0.0</td>\n",
       "      <td>194.0</td>\n",
       "      <td>2.0</td>\n",
       "      <td>1.5</td>\n",
       "      <td>1.0</td>\n",
       "      <td>7.0</td>\n",
       "      <td>False</td>\n",
       "      <td>0.530882</td>\n",
       "      <td>0.13272</td>\n",
       "    </tr>\n",
       "    <tr>\n",
       "      <th>1</th>\n",
       "      <td>Hf1N1</td>\n",
       "      <td>-9.855</td>\n",
       "      <td>(Hf, N)</td>\n",
       "      <td>2</td>\n",
       "      <td>0.707107</td>\n",
       "      <td>0.629961</td>\n",
       "      <td>0.574349</td>\n",
       "      <td>0.552045</td>\n",
       "      <td>0.535887</td>\n",
       "      <td>7.0</td>\n",
       "      <td>...</td>\n",
       "      <td>194.0</td>\n",
       "      <td>0.0</td>\n",
       "      <td>194.0</td>\n",
       "      <td>2.0</td>\n",
       "      <td>1.5</td>\n",
       "      <td>1.0</td>\n",
       "      <td>7.0</td>\n",
       "      <td>False</td>\n",
       "      <td>0.530882</td>\n",
       "      <td>0.13272</td>\n",
       "    </tr>\n",
       "  </tbody>\n",
       "</table>\n",
       "<p>2 rows × 148 columns</p>\n",
       "</div>"
      ],
      "text/plain": [
       "  composition  energyperatom composition_obj  0-norm    2-norm    3-norm  \\\n",
       "0       Hf1N1         -9.855         (Hf, N)       2  0.707107  0.629961   \n",
       "1       Hf1N1         -9.855         (Hf, N)       2  0.707107  0.629961   \n",
       "\n",
       "     5-norm    7-norm   10-norm  MagpieData minimum Number  ...  \\\n",
       "0  0.574349  0.552045  0.535887                        7.0  ...   \n",
       "1  0.574349  0.552045  0.535887                        7.0  ...   \n",
       "\n",
       "   MagpieData mean SpaceGroupNumber  MagpieData avg_dev SpaceGroupNumber  \\\n",
       "0                             194.0                                  0.0   \n",
       "1                             194.0                                  0.0   \n",
       "\n",
       "   MagpieData mode SpaceGroupNumber  avg s valence electrons  \\\n",
       "0                             194.0                      2.0   \n",
       "1                             194.0                      2.0   \n",
       "\n",
       "   avg p valence electrons  avg d valence electrons  avg f valence electrons  \\\n",
       "0                      1.5                      1.0                      7.0   \n",
       "1                      1.5                      1.0                      7.0   \n",
       "\n",
       "   compound possible  max ionic char  avg ionic char  \n",
       "0              False        0.530882         0.13272  \n",
       "1              False        0.530882         0.13272  \n",
       "\n",
       "[2 rows x 148 columns]"
      ]
     },
     "execution_count": 26,
     "metadata": {},
     "output_type": "execute_result"
    }
   ],
   "source": [
    "data.head(2)"
   ]
  },
  {
   "cell_type": "code",
   "execution_count": 27,
   "metadata": {},
   "outputs": [],
   "source": [
    "data = data.drop(['composition','composition_obj'],axis=1)"
   ]
  },
  {
   "cell_type": "code",
   "execution_count": 28,
   "metadata": {},
   "outputs": [],
   "source": [
    "# separate data into \"labels\" and \"features\". labels are quantities to be predicted (energyperatom in this case)\n",
    "labels = np.array(data['energyperatom'])\n",
    "\n",
    "# Remove the labels from the features\n",
    "# axis 1 refers to the columns\n",
    "data= data.drop('energyperatom', axis = 1)\n",
    "\n",
    "# Saving feature names for later use\n",
    "feature_list = list(data.columns)\n",
    "\n",
    "# Convert to numpy array\n",
    "features = np.array(data)"
   ]
  },
  {
   "cell_type": "code",
   "execution_count": 29,
   "metadata": {},
   "outputs": [],
   "source": [
    "# split data into training and testing sets using train_test_split function from Scikit-learn\n",
    "from sklearn.model_selection import train_test_split\n",
    "\n",
    "# Split the data into training and testing sets\n",
    "train_features, test_features, train_labels, test_labels = train_test_split(features, labels, test_size = 0.25, random_state = 42)"
   ]
  },
  {
   "cell_type": "code",
   "execution_count": 30,
   "metadata": {},
   "outputs": [
    {
     "name": "stdout",
     "output_type": "stream",
     "text": [
      "Training Features Shape: (12333, 145)\n",
      "Training Labels Shape: (12333,)\n",
      "Testing Features Shape: (4112, 145)\n",
      "Testing Labels Shape: (4112,)\n"
     ]
    }
   ],
   "source": [
    "print('Training Features Shape:', train_features.shape)\n",
    "print('Training Labels Shape:', train_labels.shape)\n",
    "print('Testing Features Shape:', test_features.shape)\n",
    "print('Testing Labels Shape:', test_labels.shape)"
   ]
  },
  {
   "cell_type": "code",
   "execution_count": 31,
   "metadata": {},
   "outputs": [],
   "source": [
    "# initialize the model with 1000 decision trees\n",
    "rf = RandomForestRegressor(n_estimators = 1000, random_state = 42)\n",
    "\n",
    "# train the model on training data\n",
    "rf.fit(train_features, train_labels);"
   ]
  },
  {
   "cell_type": "code",
   "execution_count": 32,
   "metadata": {},
   "outputs": [
    {
     "name": "stdout",
     "output_type": "stream",
     "text": [
      "Mean Absolute Error: 0.12 eV/atom\n"
     ]
    }
   ],
   "source": [
    "# make predictions on test set\n",
    "predictions = rf.predict(test_features)\n",
    "\n",
    "# Calculate the absolute errors\n",
    "errors = abs(predictions - test_labels)\n",
    "\n",
    "# Print out the mean absolute error (mae)\n",
    "print('Mean Absolute Error:', round(np.mean(errors), 2), 'eV/atom')"
   ]
  },
  {
   "cell_type": "code",
   "execution_count": 33,
   "metadata": {},
   "outputs": [
    {
     "data": {
      "image/png": "[encoded data removed]",
      "text/plain": [
       "<Figure size 216x216 with 1 Axes>"
      ]
     },
     "metadata": {
      "needs_background": "light"
     },
     "output_type": "display_data"
    }
   ],
   "source": [
    "# plot the predictions against true DFT values\n",
    "fig, ax = plt.subplots()\n",
    "\n",
    "ax.hist2d(test_labels, predictions, norm=LogNorm(), bins=64, cmap='Blues', alpha=0.9)\n",
    "\n",
    "ax.set_xlim(ax.get_ylim())\n",
    "ax.set_ylim(ax.get_xlim())\n",
    "\n",
    "mae = metrics.mean_absolute_error(test_labels, predictions)\n",
    "r2 = metrics.r2_score(test_labels, predictions)\n",
    "ax.text(0.5, 0.1, 'MAE: {:.2f} eV/atom\\n$R^2$:  {:.2f}'.format(mae, r2),\n",
    "        transform=ax.transAxes,\n",
    "       bbox={'facecolor': 'w', 'edgecolor': 'k'})\n",
    "\n",
    "ax.plot(ax.get_xlim(), ax.get_xlim(), 'k--')\n",
    "\n",
    "ax.set_xlabel('DFT $\\Delta H_f$ (eV/atom)')\n",
    "ax.set_ylabel('ML $\\Delta H_f$ (eV/atom)')\n",
    "\n",
    "fig.set_size_inches(3, 3)\n",
    "fig.tight_layout()"
   ]
  },
  {
   "cell_type": "code",
   "execution_count": 34,
   "metadata": {},
   "outputs": [
    {
     "name": "stdout",
     "output_type": "stream",
     "text": [
      "Variable: MagpieData mode CovalentRadius Importance: 0.21\n",
      "Variable: MagpieData mean NdUnfilled Importance: 0.18\n",
      "Variable: MagpieData minimum CovalentRadius Importance: 0.17\n",
      "Variable: MagpieData mean NUnfilled Importance: 0.16\n",
      "Variable: MagpieData avg_dev NdValence Importance: 0.04\n",
      "Variable: MagpieData mode NUnfilled Importance: 0.03\n",
      "Variable: MagpieData range NUnfilled Importance: 0.02\n",
      "Variable: MagpieData mean MeltingT Importance: 0.01\n",
      "Variable: MagpieData avg_dev MeltingT Importance: 0.01\n",
      "Variable: MagpieData mode MeltingT Importance: 0.01\n",
      "Variable: MagpieData maximum NdValence Importance: 0.01\n",
      "Variable: MagpieData mean NdValence Importance: 0.01\n",
      "Variable: MagpieData mode NValence Importance: 0.01\n",
      "Variable: MagpieData mean NpUnfilled Importance: 0.01\n",
      "Variable: MagpieData mode NpUnfilled Importance: 0.01\n",
      "Variable: MagpieData minimum NUnfilled Importance: 0.01\n",
      "Variable: avg d valence electrons Importance: 0.01\n",
      "Variable: 0-norm               Importance: 0.0\n",
      "Variable: 2-norm               Importance: 0.0\n",
      "Variable: 3-norm               Importance: 0.0\n",
      "Variable: 5-norm               Importance: 0.0\n",
      "Variable: 7-norm               Importance: 0.0\n",
      "Variable: 10-norm              Importance: 0.0\n",
      "Variable: MagpieData minimum Number Importance: 0.0\n",
      "Variable: MagpieData maximum Number Importance: 0.0\n",
      "Variable: MagpieData range Number Importance: 0.0\n",
      "Variable: MagpieData mean Number Importance: 0.0\n",
      "Variable: MagpieData avg_dev Number Importance: 0.0\n",
      "Variable: MagpieData mode Number Importance: 0.0\n",
      "Variable: MagpieData minimum MendeleevNumber Importance: 0.0\n",
      "Variable: MagpieData maximum MendeleevNumber Importance: 0.0\n",
      "Variable: MagpieData range MendeleevNumber Importance: 0.0\n",
      "Variable: MagpieData mean MendeleevNumber Importance: 0.0\n",
      "Variable: MagpieData avg_dev MendeleevNumber Importance: 0.0\n",
      "Variable: MagpieData mode MendeleevNumber Importance: 0.0\n",
      "Variable: MagpieData minimum AtomicWeight Importance: 0.0\n",
      "Variable: MagpieData maximum AtomicWeight Importance: 0.0\n",
      "Variable: MagpieData range AtomicWeight Importance: 0.0\n",
      "Variable: MagpieData mean AtomicWeight Importance: 0.0\n",
      "Variable: MagpieData avg_dev AtomicWeight Importance: 0.0\n",
      "Variable: MagpieData mode AtomicWeight Importance: 0.0\n",
      "Variable: MagpieData minimum MeltingT Importance: 0.0\n",
      "Variable: MagpieData maximum MeltingT Importance: 0.0\n",
      "Variable: MagpieData range MeltingT Importance: 0.0\n",
      "Variable: MagpieData minimum Column Importance: 0.0\n",
      "Variable: MagpieData maximum Column Importance: 0.0\n",
      "Variable: MagpieData range Column Importance: 0.0\n",
      "Variable: MagpieData mean Column Importance: 0.0\n",
      "Variable: MagpieData avg_dev Column Importance: 0.0\n",
      "Variable: MagpieData mode Column Importance: 0.0\n",
      "Variable: MagpieData minimum Row Importance: 0.0\n",
      "Variable: MagpieData maximum Row Importance: 0.0\n",
      "Variable: MagpieData range Row Importance: 0.0\n",
      "Variable: MagpieData mean Row  Importance: 0.0\n",
      "Variable: MagpieData avg_dev Row Importance: 0.0\n",
      "Variable: MagpieData mode Row  Importance: 0.0\n",
      "Variable: MagpieData maximum CovalentRadius Importance: 0.0\n",
      "Variable: MagpieData range CovalentRadius Importance: 0.0\n",
      "Variable: MagpieData mean CovalentRadius Importance: 0.0\n",
      "Variable: MagpieData avg_dev CovalentRadius Importance: 0.0\n",
      "Variable: MagpieData minimum Electronegativity Importance: 0.0\n",
      "Variable: MagpieData maximum Electronegativity Importance: 0.0\n",
      "Variable: MagpieData range Electronegativity Importance: 0.0\n",
      "Variable: MagpieData mean Electronegativity Importance: 0.0\n",
      "Variable: MagpieData avg_dev Electronegativity Importance: 0.0\n",
      "Variable: MagpieData mode Electronegativity Importance: 0.0\n",
      "Variable: MagpieData minimum NsValence Importance: 0.0\n",
      "Variable: MagpieData maximum NsValence Importance: 0.0\n",
      "Variable: MagpieData range NsValence Importance: 0.0\n",
      "Variable: MagpieData mean NsValence Importance: 0.0\n",
      "Variable: MagpieData avg_dev NsValence Importance: 0.0\n",
      "Variable: MagpieData mode NsValence Importance: 0.0\n",
      "Variable: MagpieData minimum NpValence Importance: 0.0\n",
      "Variable: MagpieData maximum NpValence Importance: 0.0\n",
      "Variable: MagpieData range NpValence Importance: 0.0\n",
      "Variable: MagpieData mean NpValence Importance: 0.0\n",
      "Variable: MagpieData avg_dev NpValence Importance: 0.0\n",
      "Variable: MagpieData mode NpValence Importance: 0.0\n",
      "Variable: MagpieData minimum NdValence Importance: 0.0\n",
      "Variable: MagpieData range NdValence Importance: 0.0\n",
      "Variable: MagpieData mode NdValence Importance: 0.0\n",
      "Variable: MagpieData minimum NfValence Importance: 0.0\n",
      "Variable: MagpieData maximum NfValence Importance: 0.0\n",
      "Variable: MagpieData range NfValence Importance: 0.0\n",
      "Variable: MagpieData mean NfValence Importance: 0.0\n",
      "Variable: MagpieData avg_dev NfValence Importance: 0.0\n",
      "Variable: MagpieData mode NfValence Importance: 0.0\n",
      "Variable: MagpieData minimum NValence Importance: 0.0\n",
      "Variable: MagpieData maximum NValence Importance: 0.0\n",
      "Variable: MagpieData range NValence Importance: 0.0\n",
      "Variable: MagpieData mean NValence Importance: 0.0\n",
      "Variable: MagpieData avg_dev NValence Importance: 0.0\n",
      "Variable: MagpieData minimum NsUnfilled Importance: 0.0\n",
      "Variable: MagpieData maximum NsUnfilled Importance: 0.0\n",
      "Variable: MagpieData range NsUnfilled Importance: 0.0\n",
      "Variable: MagpieData mean NsUnfilled Importance: 0.0\n",
      "Variable: MagpieData avg_dev NsUnfilled Importance: 0.0\n",
      "Variable: MagpieData mode NsUnfilled Importance: 0.0\n",
      "Variable: MagpieData minimum NpUnfilled Importance: 0.0\n",
      "Variable: MagpieData maximum NpUnfilled Importance: 0.0\n",
      "Variable: MagpieData range NpUnfilled Importance: 0.0\n",
      "Variable: MagpieData avg_dev NpUnfilled Importance: 0.0\n",
      "Variable: MagpieData minimum NdUnfilled Importance: 0.0\n",
      "Variable: MagpieData maximum NdUnfilled Importance: 0.0\n",
      "Variable: MagpieData range NdUnfilled Importance: 0.0\n",
      "Variable: MagpieData avg_dev NdUnfilled Importance: 0.0\n",
      "Variable: MagpieData mode NdUnfilled Importance: 0.0\n",
      "Variable: MagpieData minimum NfUnfilled Importance: 0.0\n",
      "Variable: MagpieData maximum NfUnfilled Importance: 0.0\n",
      "Variable: MagpieData range NfUnfilled Importance: 0.0\n",
      "Variable: MagpieData mean NfUnfilled Importance: 0.0\n",
      "Variable: MagpieData avg_dev NfUnfilled Importance: 0.0\n",
      "Variable: MagpieData mode NfUnfilled Importance: 0.0\n",
      "Variable: MagpieData maximum NUnfilled Importance: 0.0\n",
      "Variable: MagpieData avg_dev NUnfilled Importance: 0.0\n",
      "Variable: MagpieData minimum GSvolume_pa Importance: 0.0\n",
      "Variable: MagpieData maximum GSvolume_pa Importance: 0.0\n",
      "Variable: MagpieData range GSvolume_pa Importance: 0.0\n",
      "Variable: MagpieData mean GSvolume_pa Importance: 0.0\n",
      "Variable: MagpieData avg_dev GSvolume_pa Importance: 0.0\n",
      "Variable: MagpieData mode GSvolume_pa Importance: 0.0\n",
      "Variable: MagpieData minimum GSbandgap Importance: 0.0\n",
      "Variable: MagpieData maximum GSbandgap Importance: 0.0\n",
      "Variable: MagpieData range GSbandgap Importance: 0.0\n",
      "Variable: MagpieData mean GSbandgap Importance: 0.0\n",
      "Variable: MagpieData avg_dev GSbandgap Importance: 0.0\n",
      "Variable: MagpieData mode GSbandgap Importance: 0.0\n",
      "Variable: MagpieData minimum GSmagmom Importance: 0.0\n",
      "Variable: MagpieData maximum GSmagmom Importance: 0.0\n",
      "Variable: MagpieData range GSmagmom Importance: 0.0\n",
      "Variable: MagpieData mean GSmagmom Importance: 0.0\n",
      "Variable: MagpieData avg_dev GSmagmom Importance: 0.0\n",
      "Variable: MagpieData mode GSmagmom Importance: 0.0\n",
      "Variable: MagpieData minimum SpaceGroupNumber Importance: 0.0\n",
      "Variable: MagpieData maximum SpaceGroupNumber Importance: 0.0\n",
      "Variable: MagpieData range SpaceGroupNumber Importance: 0.0\n",
      "Variable: MagpieData mean SpaceGroupNumber Importance: 0.0\n",
      "Variable: MagpieData avg_dev SpaceGroupNumber Importance: 0.0\n",
      "Variable: MagpieData mode SpaceGroupNumber Importance: 0.0\n",
      "Variable: avg s valence electrons Importance: 0.0\n",
      "Variable: avg p valence electrons Importance: 0.0\n",
      "Variable: avg f valence electrons Importance: 0.0\n",
      "Variable: compound possible    Importance: 0.0\n",
      "Variable: max ionic char       Importance: 0.0\n",
      "Variable: avg ionic char       Importance: 0.0\n"
     ]
    }
   ],
   "source": [
    "# evaluate feature importances\n",
    "\n",
    "# get numerical feature importances\n",
    "importances = list(rf.feature_importances_)\n",
    "\n",
    "# list of tuples with variable and importance\n",
    "feature_importances = [(feature, round(importance, 2)) for feature, importance in zip(feature_list, importances)]\n",
    "\n",
    "# sort the feature importances by most important first\n",
    "feature_importances = sorted(feature_importances, key = lambda x: x[1], reverse = True)\n",
    "\n",
    "# print out the feature and importances \n",
    "[print('Variable: {:20} Importance: {}'.format(*pair)) for pair in feature_importances];"
   ]
  }
 ],
 "metadata": {
  "kernelspec": {
   "display_name": "tf2",
   "language": "python",
   "name": "tf2"
  },
  "language_info": {
   "codemirror_mode": {
    "name": "ipython",
    "version": 3
   },
   "file_extension": ".py",
   "mimetype": "text/x-python",
   "name": "python",
   "nbconvert_exporter": "python",
   "pygments_lexer": "ipython3",
   "version": "3.7.8"
  }
 },
 "nbformat": 4,
 "nbformat_minor": 2
}
